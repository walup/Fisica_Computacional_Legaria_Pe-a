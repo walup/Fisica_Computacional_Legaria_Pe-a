{
 "cells": [
  {
   "cell_type": "code",
   "execution_count": 2,
   "metadata": {
    "collapsed": false
   },
   "outputs": [
    {
     "data": {
      "text/plain": [
       "newtonMethod (generic function with 1 method)"
      ]
     },
     "execution_count": 2,
     "metadata": {},
     "output_type": "execute_result"
    }
   ],
   "source": [
    "function newtonMethod(f::Function,g::Function,seed)\n",
    "    \n",
    "    err =10\n",
    "    xOld = seed\n",
    "    xNew=0\n",
    "    while (err >0.0000001)\n",
    "       xNew = xOld-(f(xOld)/g(xOld))\n",
    "        \n",
    "        err = abs(xNew -xOld)\n",
    "        xOld = xNew\n",
    "    end\n",
    "    println(\"funcion evaluada en el punto \",f(xNew))\n",
    "    return xNew\n",
    "end"
   ]
  },
  {
   "cell_type": "markdown",
   "metadata": {},
   "source": [
    "Probaremos la funcion con la que vimos en clase. en este caso era\n",
    "\n",
    "$$xtan(x) - \\sqrt{A^{2} -x^2}$$\n",
    "\n",
    "Y su derivada es:\n",
    "\n",
    "\n",
    "$$tan(x)+ sec^2(x) +\\frac{x}{\\sqrt{A^2 -x^2}}$$"
   ]
  },
  {
   "cell_type": "code",
   "execution_count": 4,
   "metadata": {
    "collapsed": false
   },
   "outputs": [
    {
     "name": "stdout",
     "output_type": "stream",
     "text": [
      "funcion evaluada en el punto 2.2426505097428162e-14 + 0.0im\n",
      "0.7390851332151673 + 0.0im\n"
     ]
    }
   ],
   "source": [
    "println(newtonMethod(x->x*tan(x) -(1-x^2 +0*im)^(1/2),x->tan(x) +x*(sec(x))^2 +x/((1-x^2 +0*im)^(1/2)),0.5))\n",
    "println(newtonMethod(x->x*tan(x) -(1-x^2 +0*im)^(1/2),x->tan(x) +x*(sec(x))^2 +x/((1-x^2 +0*im)^(1/2)),0.5))"
   ]
  },
  {
   "cell_type": "code",
   "execution_count": 3,
   "metadata": {
    "collapsed": false
   },
   "outputs": [
    {
     "name": "stdout",
     "output_type": "stream",
     "text": [
      "funcion evaluada en el punto -7.303936424810457e-15\n",
      "8.546307418427781e-8\n"
     ]
    }
   ],
   "source": [
    "println(newtonMethod(x->x^3 -x^2,x->3*x^2-2*x,0.1))\n",
    "\n",
    "\n"
   ]
  },
  {
   "cell_type": "code",
   "execution_count": 3,
   "metadata": {
    "collapsed": false
   },
   "outputs": [
    {
     "name": "stdout",
     "output_type": "stream",
     "text": [
      "11.002297237436702\n"
     ]
    }
   ],
   "source": []
  },
  {
   "cell_type": "code",
   "execution_count": null,
   "metadata": {
    "collapsed": true
   },
   "outputs": [],
   "source": []
  }
 ],
 "metadata": {
  "kernelspec": {
   "display_name": "Julia 0.4.7",
   "language": "julia",
   "name": "julia-0.4"
  },
  "language_info": {
   "file_extension": ".jl",
   "mimetype": "application/julia",
   "name": "julia",
   "version": "0.4.7"
  }
 },
 "nbformat": 4,
 "nbformat_minor": 2
}
