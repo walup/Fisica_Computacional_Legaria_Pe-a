{
 "cells": [
  {
   "cell_type": "markdown",
   "metadata": {},
   "source": [
    "## Editar las rutinas presentadas en esta clase para calcular la derivada hacia adelante a orden más alto, pero en esta ocasión para el operador derivada simetrizada.\n",
    "No olvide hacer el test de la rutina, similar a lo que se hizo en este notebook para el $cos$."
   ]
  },
  {
   "cell_type": "markdown",
   "metadata": {},
   "source": [
    "En la tarea anterior habiamos obtenido que \n",
    "\n",
    "\\begin{equation}\n",
    "\\frac{d}{dx} = \\frac{1}{h} arcsinh(\\frac{\\delta_{h}}{2})\n",
    "\\end{equation}\n",
    "\n",
    "donde $\\delta_{h} f(x) = f(x+h) -f(x-f)$"
   ]
  },
  {
   "cell_type": "code",
   "execution_count": 5,
   "metadata": {},
   "outputs": [],
   "source": [
    "#=Estas son las functiones que definió el profesor, pero ahora las adaptamos para que nos den los \n",
    "coeficientes de taylor del arcoseno, ademas les hemos cambiado el nombre=#\n",
    "using SymPy\n",
    "\n",
    "function coeffTaylorASinh(i)\n",
    "x=Sym(\"x\");\n",
    "h=Sym(\"h\");\n",
    "N(subs(diff(asinh(x),x,i)/factorial(Float64(i)),x=>0))\n",
    "end;\n",
    "\n",
    "function coeffTaylorASinhRational(i)\n",
    "    x=Sym(\"x\");\n",
    "    h=Sym(\"h\");\n",
    "    subs(diff(log(x+1),x,i)/factorial(i),x=>0)\n",
    "end;\n",
    "\n",
    "function simmetricDifference(f)\n",
    "    return (x,h)->(f(x+h,h)-f(x-h,h))/2\n",
    "end;"
   ]
  },
  {
   "cell_type": "code",
   "execution_count": 6,
   "metadata": {},
   "outputs": [],
   "source": [
    "#=Estas son las otras funciones que definió el profesor, adaptadas al nuevo caso=#\n",
    "function simmetricDerivative(f,x,h,order)\n",
    "    g(x,h)=f(x)\n",
    "    der=0\n",
    "    for i in range(1,order)\n",
    "        g=simmetricDifference(g)\n",
    "        der=der+coeffTaylorASinh(i)*g(x,h)\n",
    "    end\n",
    "    der/h\n",
    "end;\n",
    "function simmetricDerivativeRationalCoefficients(f,x,h,order)\n",
    "    g(x,h)=f(x)\n",
    "    der=0\n",
    "    for i in range(1,order)\n",
    "        g=simmetricDifference(g)\n",
    "        der=der+coeffTaylorASinhRational(i)*g(x,h)\n",
    "    end\n",
    "    der/h\n",
    "end;"
   ]
  },
  {
   "cell_type": "code",
   "execution_count": 7,
   "metadata": {},
   "outputs": [
    {
     "data": {
      "text/plain": [
       "0.5440211108893371"
      ]
     },
     "execution_count": 7,
     "metadata": {},
     "output_type": "execute_result"
    }
   ],
   "source": [
    "#=Probamos con el coseno=#\n",
    "simmetricDerivative(cos,10,0.01,6)"
   ]
  },
  {
   "cell_type": "code",
   "execution_count": 4,
   "metadata": {},
   "outputs": [
    {
     "data": {
      "text/plain": [
       "0.5440211108893698"
      ]
     },
     "execution_count": 4,
     "metadata": {},
     "output_type": "execute_result"
    }
   ],
   "source": [
    "-sin(10)"
   ]
  },
  {
   "cell_type": "code",
   "execution_count": 9,
   "metadata": {},
   "outputs": [
    {
     "data": {
      "text/latex": [
       "$$\\frac{1}{h} \\left(- \\frac{1}{2} f{\\left (- h + x \\right )} + \\frac{1}{2} f{\\left (h + x \\right )}\\right)$$"
      ],
      "text/plain": [
       "  f(-h + x)   f(h + x)\n",
       "- --------- + --------\n",
       "      2          2    \n",
       "----------------------\n",
       "          h           "
      ]
     },
     "execution_count": 9,
     "metadata": {},
     "output_type": "execute_result"
    }
   ],
   "source": [
    "#=Ahora, veamos si la forma simbolica coincide con la que algunas vez obtuvimos para la derivada simetrica=#\n",
    "\n",
    "\n",
    "derSimetrica = simmetricDerivativeRationalCoefficients(SymFunction(\"f\"),Sym(\"x\"),Sym(\"h\"),1)"
   ]
  },
  {
   "cell_type": "code",
   "execution_count": 10,
   "metadata": {},
   "outputs": [
    {
     "data": {
      "text/latex": [
       "$$\\left. \\frac{d}{d \\xi_{1}} f{\\left (\\xi_{1} \\right )} \\right|_{\\substack{ \\xi_{1}=x }} + \\frac{h^{2}}{6} \\left. \\frac{d^{3}}{d \\xi_{1}^{3}}  f{\\left (\\xi_{1} \\right )} \\right|_{\\substack{ \\xi_{1}=x }} + \\frac{h^{4}}{120} \\left. \\frac{d^{5}}{d \\xi_{1}^{5}}  f{\\left (\\xi_{1} \\right )} \\right|_{\\substack{ \\xi_{1}=x }} + \\mathcal{O}\\left(h^{5}\\right)$$"
      ],
      "text/plain": [
       "                             /   3           \\|            /   5           \\| \n",
       "                           2 |  d            ||          4 |  d            || \n",
       "                          h *|------(f(xi_1))||         h *|------(f(xi_1))|| \n",
       "                             |     3         ||            |     5         || \n",
       "/  d           \\|            \\dxi_1          /|xi_1=x      \\dxi_1          /|x\n",
       "|-----(f(xi_1))||       + --------------------------- + ----------------------\n",
       "\\dxi_1         /|xi_1=x                6                            120       \n",
       "\n",
       "             \n",
       "             \n",
       "             \n",
       "             \n",
       "i_1=x    / 5\\\n",
       "----- + O\\h /\n",
       "             "
      ]
     },
     "execution_count": 10,
     "metadata": {},
     "output_type": "execute_result"
    }
   ],
   "source": [
    "#=Por ultimo vemos que el orden de la aproximacion es 2=#\n",
    "\n",
    "series(derSimetrica,Sym(\"h\"),0,5)"
   ]
  },
  {
   "cell_type": "code",
   "execution_count": null,
   "metadata": {},
   "outputs": [],
   "source": []
  }
 ],
 "metadata": {
  "kernelspec": {
   "display_name": "Julia 0.6.0",
   "language": "julia",
   "name": "julia-0.6"
  },
  "language_info": {
   "file_extension": ".jl",
   "mimetype": "application/julia",
   "name": "julia",
   "version": "0.6.0"
  }
 },
 "nbformat": 4,
 "nbformat_minor": 2
}
