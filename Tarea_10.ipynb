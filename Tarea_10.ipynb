{
 "cells": [
  {
   "cell_type": "markdown",
   "metadata": {},
   "source": [
    "\n",
    "**Editar las rutinas presentadas en esta clase para calcular la derivada hacia adelante a orden más alto, pero en esta ocasión para el operador derivada simetrizada.**\n",
    "\n",
    "Decidí hacer una implementación un poco distinta, que no dependiera de SymPy, espero que no sea problema. "
   ]
  },
  {
   "cell_type": "code",
   "execution_count": 57,
   "metadata": {
    "collapsed": false
   },
   "outputs": [
    {
     "data": {
      "text/plain": [
       "diferenciaSimetrica (generic function with 2 methods)"
      ]
     },
     "execution_count": 57,
     "metadata": {},
     "output_type": "execute_result"
    }
   ],
   "source": [
    "#Construiremos nuestra función paso a paso. En primer lugar queremos una funcion que nos arroje la diferencia f(x+h)-f(x-h) o la composicion a cualquier orden de esta función. La implementacion por recursion es particularmente sencilla. \n",
    "function diferenciaSimetrica(f::Function,x,h,order)\n",
    "    \n",
    "    if(order ==1)\n",
    "        return f(x+h)-f(x-h)\n",
    " \n",
    "    else\n",
    "        return f(diferenciaSimetrica(f,x,h,order-1)+h)-f(diferenciaSimetrica(f,x,h,order-1)-h)\n",
    "    \n",
    "    end\n",
    "end"
   ]
  },
  {
   "cell_type": "code",
   "execution_count": 58,
   "metadata": {
    "collapsed": false
   },
   "outputs": [
    {
     "data": {
      "text/plain": [
       "2"
      ]
     },
     "execution_count": 58,
     "metadata": {},
     "output_type": "execute_result"
    }
   ],
   "source": [
    "#Probemos, es facil ver que a orden 1 la diferencia de la funcion f(x)=x, evaluada en x=5, con h=1 debe dar 2\n",
    "diferenciaSimetrica(x->x,5,1,1)"
   ]
  },
  {
   "cell_type": "code",
   "execution_count": 59,
   "metadata": {
    "collapsed": false
   },
   "outputs": [
    {
     "data": {
      "text/plain": [
       "coefDerSimGenerator (generic function with 1 method)"
      ]
     },
     "execution_count": 59,
     "metadata": {},
     "output_type": "execute_result"
    }
   ],
   "source": [
    " #Hacemos una funcion para calcular los coeficientes de la suma que obtuvimos en la tarea 8 para calcular la derivada. \n",
    "\n",
    "function coefDerSimGenerator(f::Function,x,h,i)\n",
    "\n",
    "    return (1/h)*((((-1)^i)*factorial(2*i))/((2^(2*i))*(factorial(i))^2))*(diferenciaSimetrica(f,x,h,2*i+1)/(2)^(2*i+1))*(1/(2*i+1)) \n",
    "    \n",
    "end"
   ]
  },
  {
   "cell_type": "code",
   "execution_count": 60,
   "metadata": {
    "collapsed": false
   },
   "outputs": [
    {
     "data": {
      "text/plain": [
       "1.0"
      ]
     },
     "execution_count": 60,
     "metadata": {},
     "output_type": "execute_result"
    }
   ],
   "source": [
    "#Como una prueba el coeficiente con i = 0, de la funcion f(x) = x, en x = 5, y h = 5 es simplemente la derivada simetrica de la funcion x, evaluada en 5, que deberia dar (5+1-5+1)/2*1 = 1=#\n",
    "\n",
    "coefDerSimGenerator(x->x,5,1,0)"
   ]
  },
  {
   "cell_type": "code",
   "execution_count": 61,
   "metadata": {
    "collapsed": false
   },
   "outputs": [
    {
     "data": {
      "text/plain": [
       "derSimetrica (generic function with 1 method)"
      ]
     },
     "execution_count": 61,
     "metadata": {},
     "output_type": "execute_result"
    }
   ],
   "source": [
    "#finalmente creamos la funcion que nos calculará la derivada. \n",
    "\n",
    "function derSimetrica(f::Function,x,h,orden)\n",
    "    \n",
    "   suma = 0\n",
    "    \n",
    "    for i in 0:orden\n",
    "       suma += coefDerSimGenerator(f,x,h,i) \n",
    "    end\n",
    "    \n",
    "    return suma\n",
    "end"
   ]
  },
  {
   "cell_type": "code",
   "execution_count": 64,
   "metadata": {
    "collapsed": false
   },
   "outputs": [
    {
     "name": "stdout",
     "output_type": "stream",
     "text": [
      "La derivada simetrica a orden 0 del coseno en 1/2 es: -0.4794254586999447\n",
      "La derivada simetrica a orden 1 del coseno en 1/2 es: -0.47942537879573877\n",
      "La derivada simetrica a orden 2 del coseno en 1/2 es: -0.4794253787957747\n",
      "La derivada simetrica a orden 3 del coseno en 1/2 es: -0.4794253787957747\n",
      "La derivada simetrica a orden 4 del coseno en 1/2 es: -0.4794253787957747\n",
      "La derivada simetrica a orden 5 del coseno en 1/2 es: -0.4794253787957747\n",
      "La derivada real es -0.479425538604203\n"
     ]
    }
   ],
   "source": [
    "#Probamos con el coseno, vamos a hacerlo a distintos ordenes.  \n",
    "\n",
    "for i in 0:5\n",
    "println(\"La derivada simetrica a orden \",i,\" del coseno en 1/2 es: \",derSimetrica(x->cos(x),1/2,0.001,i))\n",
    "end\n",
    "\n",
    "println(\"La derivada real es \",-sin(1/2))"
   ]
  },
  {
   "cell_type": "code",
   "execution_count": null,
   "metadata": {
    "collapsed": true
   },
   "outputs": [],
   "source": []
  }
 ],
 "metadata": {
  "kernelspec": {
   "display_name": "Julia 0.6.0",
   "language": "julia",
   "name": "julia-0.6"
  },
  "language_info": {
   "file_extension": ".jl",
   "mimetype": "application/julia",
   "name": "julia",
   "version": "0.6.0"
  }
 },
 "nbformat": 4,
 "nbformat_minor": 2
}
