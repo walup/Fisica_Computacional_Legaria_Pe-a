{
 "cells": [
  {
   "cell_type": "markdown",
   "metadata": {},
   "source": [
    "Mejoraremos un poco la implementación del método de Newton utilizando el criterio de error que nos mencionó el profesor en clase. "
   ]
  },
  {
   "cell_type": "code",
   "execution_count": 4,
   "metadata": {
    "collapsed": false
   },
   "outputs": [
    {
     "data": {
      "text/plain": [
       "newtonMethodTolerance (generic function with 1 method)"
      ]
     },
     "execution_count": 4,
     "metadata": {},
     "output_type": "execute_result"
    }
   ],
   "source": [
    "function newtonMethodTolerance(f::Function,g::Function,seed,tolerance)\n",
    "    #=Al igual que la funcion que habiamos implementado antes esta recibe como parametros la funcion f, su derivada y se le añade ademas la tolerancia. la condicion de paro de las iteraciones será que la funcion evaluada en x sea menor que la tolerancia, una vez que suceda esto el ciclo se detendrá y se retornará la variable x=#\n",
    "    \n",
    "    x = seed\n",
    "    \n",
    "    \n",
    "    while(abs(f(x))>tolerance ||abs(f(x)-f(seed))>1/tolerance)\n",
    "        \n",
    "        x = x-(f(x)/g(x))\n",
    "    end \n",
    "    \n",
    "    return x\n",
    "    \n",
    "end \n",
    "\n"
   ]
  },
  {
   "cell_type": "markdown",
   "metadata": {},
   "source": [
    "Probaremos con\n",
    "$$xtan(x) - \\sqrt{A^{2} -x^2}$$\n",
    "\n",
    "su derivada es:\n",
    "\n",
    "$$tan(x)+ sec^2(x) +\\frac{x}{\\sqrt{A^2 -x^2}}$$}\n",
    "\n",
    "La tolerancia que pediremos es 0.00001"
   ]
  },
  {
   "cell_type": "code",
   "execution_count": 5,
   "metadata": {
    "collapsed": false
   },
   "outputs": [
    {
     "name": "stdout",
     "output_type": "stream",
     "text": [
      "0.739085202563828 + 0.0im\n",
      "-0.739085202563828 + 0.0im\n",
      "-0.7390853505496142 - 6.3463279276275e-7im\n",
      "0.7390853505496142 + 6.3463279276275e-7im\n"
     ]
    }
   ],
   "source": [
    "println(newtonMethodTolerance(x->x*tan(x) -(1-x^2 +0*im)^(1/2),x->tan(x) +x*(sec(x))^2 +x/((1-x^2 +0*im)^(1/2)),0.5,0.00001))\n",
    "println(newtonMethodTolerance(x->x*tan(x) -(1-x^2 +0*im)^(1/2),x->tan(x) +x*(sec(x))^2 +x/((1-x^2 +0*im)^(1/2)),-0.5,0.00001))\n",
    "println(newtonMethodTolerance(x->x*tan(x) -(1-x^2 +0*im)^(1/2),x->tan(x) +x*(sec(x))^2 +x/((1-x^2 +0*im)^(1/2)),3,0.00001))\n",
    "println(newtonMethodTolerance(x->x*tan(x) -(1-x^2 +0*im)^(1/2),x->tan(x) +x*(sec(x))^2 +x/((1-x^2 +0*im)^(1/2)),-3,0.00001))"
   ]
  },
  {
   "cell_type": "code",
   "execution_count": null,
   "metadata": {
    "collapsed": true
   },
   "outputs": [],
   "source": []
  }
 ],
 "metadata": {
  "kernelspec": {
   "display_name": "Julia 0.4.7",
   "language": "julia",
   "name": "julia-0.4"
  },
  "language_info": {
   "file_extension": ".jl",
   "mimetype": "application/julia",
   "name": "julia",
   "version": "0.4.7"
  }
 },
 "nbformat": 4,
 "nbformat_minor": 2
}
