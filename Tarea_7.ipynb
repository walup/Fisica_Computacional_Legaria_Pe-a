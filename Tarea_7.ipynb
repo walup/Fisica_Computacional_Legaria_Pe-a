{
 "cells": [
  {
   "cell_type": "markdown",
   "metadata": {},
   "source": [
    "1.-Implementar el método de simpson \n",
    "\n",
    "**(Nota: Esta tarea la termine antes del martes, asi que no cheque si se agregó algo despues de eso, estoy suponiendo que una vez que se publica un tarea esta no cambia para que los que la adelantan no tengan que volver a hacerla. Si me han de bajar puntos esta bien, pero creo que salvo ciertas corecciones las tareas no deben modificarse despues de que se publican, por respeto al tiempo de los estudiantes.)**"
   ]
  },
  {
   "cell_type": "code",
   "execution_count": null,
   "metadata": {
    "collapsed": true
   },
   "outputs": [],
   "source": [
    "\n",
    "#=Esta funcion es muy parecida a aquellas que se construyeron los métodos de Riemann y el trapecio, se divide el intervalo dado en 200 y en cada ciclo se aplica el método para cada uno de esos subintervalos. En cada ciclo hay que guardar el valor inicial, medio y terminal del intervalo, y agregar la aproximacion de simpson para ese intervalo a una variable integral=#\n",
    "\n",
    "function metodoSimpson(f::Function,a,b)\n",
    "    n = 200\n",
    "    delta = (b-a)/n\n",
    "    xBefore\n",
    "    xMiddle\n",
    "    xAfter\n",
    "    \n",
    "    integral = 0\n",
    "    \n",
    "    for i in 1:n\n",
    "        xBefore = a+(i-1)*delta\n",
    "        xAfter = a+i*delta\n",
    "        xMiddle = (xBefore +xAfter)/2\n",
    "        \n",
    "        integral += (f(xBefore) +f(xAfter) +4*f(xMiddle))*(delta/6)\n",
    "    end\n",
    "    return integral\n",
    "end "
   ]
  },
  {
   "cell_type": "code",
   "execution_count": 2,
   "metadata": {
    "collapsed": false
   },
   "outputs": [
    {
     "data": {
      "text/plain": [
       "2.666666666666666"
      ]
     },
     "execution_count": 2,
     "metadata": {},
     "output_type": "execute_result"
    }
   ],
   "source": [
    "metodoSimpson(x->x^2,0,2)"
   ]
  },
  {
   "cell_type": "code",
   "execution_count": 39,
   "metadata": {
    "collapsed": false
   },
   "outputs": [
    {
     "name": "stderr",
     "output_type": "stream",
     "text": [
      "WARNING: Method definition interpolacionLagrange(Any, Any) in module Main at In[37]:6 overwritten at In[39]:6.\n"
     ]
    },
    {
     "data": {
      "text/plain": [
       "interpolacionLagrange (generic function with 1 method)"
      ]
     },
     "execution_count": 39,
     "metadata": {},
     "output_type": "execute_result"
    }
   ],
   "source": [
    "using SymPy \n",
    "A,x,a,n,m=symbols(\"A,x,a,n,m\")\n",
    "\n",
    "#=Esta es la funcion de interpolacion de lagrange. basicamente la dificultad mas grande es que julia no deja redefinir funciones. es decir no se podria hacer por ejemplo un ciclo en el que se haga y2 = y2*algunaNuevaFuncion, entonces, las funciones intermedias que se obtienen al construir el producto de cocientes de la interpolacion de lagrange deben almacenarse. Esto es lo primero que hace la funcion. empieza a construir para cada uno de los puntos el producto de cocientes (con cociente me refiero a las funciones x-xj/xi-xj) los cocientes se agregan primero a un arreglo functionArray1. luego se construye el producto de la siguiente forma: se agrega el primer cociente al arreglo functionArray2, posteriormente se agrega al mismo functionArray2 el ultimo elemento del arreglo por el siguiente cociente, se hace esto hasta que el ultimo elemento de functionArray2 sea la multiplicacion de cocientes deseada, entonces esta multiplicacion de cocientes del punto i-esimo se guarda en otro arreglo functionArray3 y se vacian functionArray1 y functionArray2, se vuelve a hacer el proceso para obtener la multiplicacion de cocientes del siguiente punto. Una vez que se ha llenado functionArray3, hay que construir la suma de los terminos de este arreglo, cada uno multiplicado por la coordenada y del punto que le corresponde. Se sigue un proceso similar, y la funcion final queda como el ultimo elemento del arreglo interpolacionArray, y esto es lo que regresamos=#\n",
    "\n",
    "function interpolacionLagrange(listaX, listaY)\n",
    "    \n",
    "    functionArray1 = []\n",
    "    functionArray2 = []\n",
    "    functionArray3 = []\n",
    "    interpolacionArray = []\n",
    "    \n",
    "    for i in 1:length(listaX)\n",
    "        for j in 1:length(listaX)\n",
    "        \n",
    "        if(!(listaX[j] == listaX[i]))    \n",
    "                push!(functionArray1,x->(x-listaX[j])/(listaX[i]-listaX[j]))\n",
    "            end\n",
    "        end\n",
    "    \n",
    "        push!(functionArray3,functionArray1[1])\n",
    "        for k in 2:length(functionArray1)\n",
    "            push!(functionArray3,functionArray3[length(functionArray3)](x)*functionArray1[k](x))\n",
    "        end       \n",
    "        \n",
    "        push!(functionArray2,functionArray3[length(functionArray3)](x))\n",
    "        empty!(functionArray1)\n",
    "        empty!(functionArray3)\n",
    "    end \n",
    "    \n",
    "    push!(interpolacionArray,functionArray2[1]*listaY[1])\n",
    "    for k in 2:length(functionArray2)\n",
    "               push!(interpolacionArray,interpolacionArray[length(interpolacionArray)](x)+functionArray2[k](x)*listaY[k])\n",
    "    end \n",
    "    \n",
    "    return interpolacionArray[length(interpolacionArray)]\n",
    "end "
   ]
  },
  {
   "cell_type": "markdown",
   "metadata": {
    "collapsed": true
   },
   "source": [
    "Interpolar el coseno de 0 a 2pi "
   ]
  },
  {
   "cell_type": "code",
   "execution_count": 44,
   "metadata": {
    "collapsed": false
   },
   "outputs": [
    {
     "name": "stdout",
     "output_type": "stream",
     "text": [
      "5.42101086242752e-20*x^9 - 1.97979336357609e-5*x^8 + 0.000497576342932821*x^7 - 0.00411366974807148*x^6 + 0.00878850466168579*x^5 + 0.0243778891542608*x^4 + 0.020142554828432*x^3 - 0.512543349763748*x^2 + 0.00313254720748013*x + 1.0\n",
      "el coseno es 1.0 la interpolacion es  1.00000000000000\n",
      "el coseno es 0.766044443118978 la interpolacion es  0.766044443118961\n",
      "el coseno es 0.17364817766693041 la interpolacion es  0.173648177666764\n",
      "el coseno es -0.4999999999999998 la interpolacion es  -0.500000000000732\n",
      "el coseno es -0.9396926207859083 la interpolacion es  -0.939692620788243\n",
      "el coseno es -0.9396926207859084 la interpolacion es  -0.939692620792136\n",
      "el coseno es -0.5000000000000004 la interpolacion es  -0.500000000014348\n",
      "el coseno es 0.17364817766692997 la interpolacion es  0.173648177638373\n",
      "el coseno es 0.7660444431189778 la interpolacion es  0.766044443070681\n",
      "el coseno es 1.0 la interpolacion es  0.999999999934513\n"
     ]
    }
   ],
   "source": [
    "intervalo = linspace(0,2*pi,10)\n",
    "\n",
    "#=Creamos un arreglo con la funcion cos(x) evaluada en el intervalo =#\n",
    "\n",
    "intervaloY = cos.(intervalo)\n",
    "\n",
    "y = simplify(interpolacionLagrange(intervalo,intervaloY))\n",
    "println(y)\n",
    "\n",
    "for i in intervalo\n",
    "    \n",
    "   println(\"el coseno es \",cos(i),\" la interpolacion es  \",y(i))\n",
    "    \n",
    "end"
   ]
  },
  {
   "cell_type": "code",
   "execution_count": 43,
   "metadata": {
    "collapsed": false
   },
   "outputs": [
    {
     "data": {
      "text/latex": [
       "$$- \\frac{173 x^{6}}{2520} + \\frac{113 x^{5}}{84} - \\frac{4957 x^{4}}{504} + \\frac{2731 x^{3}}{84} - \\frac{54571 x^{2}}{1260} + \\frac{83 x}{14} + 10$$"
      ],
      "text/plain": [
       "       6        5         4         3          2            \n",
       "  173*x    113*x    4957*x    2731*x    54571*x    83*x     \n",
       "- ------ + ------ - ------- + ------- - -------- + ---- + 10\n",
       "   2520      84       504        84       1260      14      "
      ]
     },
     "execution_count": 43,
     "metadata": {},
     "output_type": "execute_result"
    }
   ],
   "source": [
    "xArray = [0,2,3,4,5,6,7]\n",
    "yArray = [10,-10,-4,0,5,20,-1]\n",
    "\n",
    "y = simplify(interpolacionLagrange(xArray,yArray))"
   ]
  },
  {
   "cell_type": "code",
   "execution_count": null,
   "metadata": {
    "collapsed": true
   },
   "outputs": [],
   "source": []
  }
 ],
 "metadata": {
  "kernelspec": {
   "display_name": "Julia 0.5.2",
   "language": "julia",
   "name": "julia-0.5"
  },
  "language_info": {
   "file_extension": ".jl",
   "mimetype": "application/julia",
   "name": "julia",
   "version": "0.5.2"
  }
 },
 "nbformat": 4,
 "nbformat_minor": 2
}
