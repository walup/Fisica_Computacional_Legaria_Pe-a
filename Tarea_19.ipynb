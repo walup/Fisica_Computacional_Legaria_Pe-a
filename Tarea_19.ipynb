{
 "cells": [
  {
   "cell_type": "markdown",
   "metadata": {},
   "source": [
    "## Ejercicio1:\n",
    "Escriba la forma del operador laplaciano utilizando diferencias finitas simétricas. Es decir, discretice: $\\nabla^2=\\frac{\\partial^2 f}{\\partial x^2}+\\frac{\\partial^2 f}{\\partial y^2}+\\frac{\\partial^2 f}{\\partial z^2}$"
   ]
  },
  {
   "cell_type": "markdown",
   "metadata": {},
   "source": [
    "En tareas pasadas se habia obtenido la expresión la derivada sumétrica \n",
    "\n",
    "$$\\frac{df}{dx} \\approx \\frac{f(x+h)-f(x-h)}{2h}$$\n",
    "\n",
    "donde pensabamos a la parte del numerador como una suma de operador actuando sobre la función f: $\\Delta_{h}f = f(x+h)$ y \n",
    "$\\Delta_{-h} = f(x-h)$, el operador derivada puede escribirse entonces como: \n",
    "\n",
    "$$\\frac{d}{dx} \\approx \\frac{\\Delta_{h} -\\Delta_{-h}}{2h}$$\n",
    "\n",
    "Entonces para sacar la segunda derivada: \n",
    "\n",
    "$$\\frac{d^2}{dx^2} \\approx \\frac{d}{dx}\\frac{d}{dx} = \\left(\\frac{(\\Delta_{h} +\\Delta_{-h})(\\Delta_{h} +\\Delta_{-h})}{4h^2} \\right) =\\left(\\frac{\\Delta_{h}^2 +2\\Delta_{h}\\Delta_{-h} +\\Delta_{-h}^2}{4h^2}\\right)$$\n",
    "\n",
    "vamos a redefinir $h:=h/2$ para no tener multiplos de h en el resultado. Entonces \n",
    "\n",
    "$$\\frac{d^2}{dx^2} \\approx  \\frac{\\Delta_{\\frac{h}{2}}^2+2\\Delta_{\\frac{h}{2}}\\Delta_{\\frac{-h}{2}} +\\Delta_{\\frac{-h}{2}}^2}{4\\frac{h^2}{4}}$$\n",
    "\n",
    "Ahora aplicamos este operador a la funcion f\n",
    "\n",
    "$$\\frac{d^2f}{dx^2} \\approx \\frac{\\Delta_{\\frac{h}{2}}^2 f+ 2\\Delta_{\\frac{h}{2}}\\Delta_{\\frac{-h}{2}}f +\\Delta_{\\frac{-h}{2}}^2 f}{h^2}$$\n",
    "\n",
    "Ahora veamos como es cada uno de los terminos. $\\Delta_{\\frac{h}{2}}^2 f$ Es aplicar dos veces el operador que suma al  $\\frac{h}{2}$ al argumento de f, es decir:\n",
    "\n",
    "$$\\Delta_{\\frac{h}{2}}^2 f = f\\left(x+\\frac{h}{2}+\\frac{h}{2}\\right) = f(x+h)$$\n",
    "\n",
    "$\\Delta_{\\frac{h}{2}}\\Delta_{\\frac{-h}{2}}f$ es la aplicacion del operador que resta $\\frac{h}{2}$ al argumento de f, seguido por el operador que suma la misma cantidad al argumento, i.e. \n",
    "\n",
    "$$\\Delta_{\\frac{h}{2}}\\Delta_{\\frac{-h}{2}}f = f\\left(x-\\frac{h}{2}+\\frac{h}{2}\\right) = f(x)$$\n",
    "\n",
    "finalmente $\\Delta_{\\frac{-h}{2}}^2$ f es aplicar dos veces el operador que resta $\\frac{h}{2}$ al argumento de f. \n",
    "\n",
    "$$\\Delta_{\\frac{-h}{2}}^2 = f\\left(x-\\frac{h}{2}-\\frac{h}{2}\\right) = f(x-h)$$\n",
    "\n",
    "Finalmente nuestra aproximación para la derivada queda:\n",
    "\n",
    "$$\\frac{f(x+h)+2f(x)+f(x-h)}{h^2}$$\n",
    "\n",
    "La discretización del laplaciano quedará entonces de la siguiente manera. \n",
    "\n",
    "\\begin{aligned}\n",
    "\\nabla^2 f &= \\frac{f(x+h,y,z)+2f(x,y,z)+f(x-h,y,z))}{h^2} + \\frac{f(x,y+h,z)+2f(x,y,z)+f(x,y-h,z))}{h^2} + \\frac{f(x,y,z+h)+2f(x,y,z)+f(x,y,z-h))}{h^2}\\\\\n",
    "&= \\frac{f(x+h,y,z)+f(x-h,y,z)+f(x,y+h,z)+f(x,y-h,z) +f(x,y,z+h)+f(x,y,z-h) +6f(x,y,z)}{h^2}\n",
    "\\end{aligned}\n",
    "\n",
    "\n"
   ]
  },
  {
   "cell_type": "markdown",
   "metadata": {},
   "source": [
    "## Ejercicio 2 (condiciones a la frontera de Dirichlet). \n",
    "Discretice la ecuación $$ \\frac{d^2f}{dx^2}, $$ en el intervalo $[0,1]$, y aplicando el operador laplaciano discretizado obtenga el sistema de ecuaciones algebraicas lineales correspondientes al problema de Dirichlet: $f(0) = a$ y $f(1) = b$ dividiendo el intervalo $[0,1]$ en $5$ puntos separados por $h$.\n",
    "\n",
    "Escriba el sistema lineal de ecuaciones que surge, usando $\\LaTeX$ en el notebook de la tarea que sigue.\n",
    "\n"
   ]
  },
  {
   "cell_type": "markdown",
   "metadata": {},
   "source": [
    "Del ejercicio anterior tenemos \n",
    "\\begin{aligned}\n",
    "\\frac{f(x+h)+2f(x)+f(x-h)}{h^2} = 0\\\\\n",
    "\\implies f(x+h)+2f(x)+f(x-h) = 0\n",
    "\\end{aligned}\n",
    "\n",
    "Otra forma de verlo es que el valor de la funcion en un punto x de la discretizacion depende de los puntos a la izquierda y a la derecha de este. Es decir:\n",
    "\n",
    "$$f(x_{i+1}) +2f(x_{i}) +f(x_{i-1}) = 0$$\n",
    "\n",
    "Dividiendo el intervalo en los cinco puntos $x_{1} = 0$, $x_{2} = \\frac{2}{5}$, $x_{3} = \\frac{3}{5}$,$x_{4} = \\frac{4}{5}$, $x_{5} = 1$ vamos a obtener 3 ecuaciones lineales si evaluamos en los puntos de en medio: $x_2$, $x_3$ y $x_4$\n",
    "\n",
    "\\begin{align}\n",
    "f(x_{1})+2f(x_{2})+f(x_{3}) = 0\\\\\n",
    "f(x_{2})+2f(x_{3})+f(x_{4}) = 0\\\\\n",
    "f(x_{3})+2f(x_{4})+f(x_{5}) = 0\\\\\n",
    "\\end{align}\n",
    "\n",
    "Ahora, esto pareceria tener mas de tres incognitas, pero no es asi ya que el valor de la funcion en los puntos inicial y final ya los conocemos: $f(x_{1}) = a$, $f(x_{5}) = b$ y entonces nuestro sistema queda:\n",
    "\n",
    "\\begin{align}\n",
    "2f(x_{2})+f(x_{3}) = -a\\\\\n",
    "f(x_{2})+2f(x_{3})+f(x_{4}) = 0\\\\\n",
    "f(x_{3})+2f(x_{4})= -b\\\\\n",
    "\\end{align}\n",
    "\n",
    "Lo cual es un sistema de tres ecuaciones lineales con tres incognitas: $f(x_{2})$,$f(x_{3})$ y $f(x_{4})$"
   ]
  },
  {
   "cell_type": "markdown",
   "metadata": {},
   "source": [
    "## Ejercicio 3 (condiciones a la frontera de Neumann).\n",
    "Hacer lo mismo para condiciones de Neumann, es decir, fijando en los extremos el valor de la primera derivada de la función. Para esto utilice la derivada hacia adeltante en las orillas, es decir, si $f'(0)=a$ y $f'(1)=b$, entonces $(f_1-f_0)/h=a$, etc. No olvide que debe resultar un sistema de ecuación cuya dimensión sea el número de incognitas.\n",
    "\n",
    "Escriba el sistema lineal de ecuaciones que surge, usando $\\LaTeX$ en el notebook de la tarea que sigue.\n"
   ]
  },
  {
   "cell_type": "markdown",
   "metadata": {},
   "source": [
    "Siguiendo el procedimiento del ejercicio anterior se llega al siguiente sistema\n",
    "\n",
    "\\begin{align}\n",
    "f(x_{1})+2f(x_{2})+f(x_{3}) = 0\\\\\n",
    "f(x_{2})+2f(x_{3})+f(x_{4}) = 0\\\\\n",
    "f(x_{3})+2f(x_{4})+f(x_{5}) = 0\\\\\n",
    "\\end{align}\n",
    "\n",
    "Ahora no conocemos directamente los valores de $f(x_{1})$ y $f(x_{5})$ pero tenemos la derivada en dichos valores, y usando la derivada hacia adelante se pueden despejar.\n",
    "\n",
    "\\begin{align}\n",
    "f'(x_{1}) = a\n",
    "\\implies \\frac{f(x_{2}) - f(x_{1})}{\\frac{1}{5}} = a \\implies f(x_{1}) =f(x_{2}) - \\frac{a}{5}\\\\\n",
    "f'(x_{5}) = b \\implies \\frac{f(x_{5}) - f(x_{4})}{\\frac{1}{5}} =b \\implies f(x_{5}) = \\frac{b}{5}-f(x_{4}) \n",
    "\\end{align}\n",
    "\n",
    "Sustituyendo esto en el sistema queda. \n",
    "\n",
    "\\begin{align}\n",
    "3f(x_{2})+f(x_{3}) = \\frac{a}{5}\\\\\n",
    "f(x_{2})+2f(x_{3})+f(x_{4}) = 0\\\\\n",
    "f(x_{3})+f(x_{4}) = -\\frac{b}{5}\\\\\n",
    "\\end{align}\n",
    "\n",
    "El cual es un sistema de tres ecuaciones con tres incognitas: $f(x_{2})$,$f(x_{3})$, $f(x_{4})$ \n"
   ]
  },
  {
   "cell_type": "markdown",
   "metadata": {},
   "source": [
    "## Ejercicio 4 (indexación)\n",
    "\n",
    "Julia es más eficiente si se utiliza un único índice para acceder a los elementos de una matriz, además que puede simplificar algunos problemas. Escribe una función $\\phi$ que traduzca un par de índices $i,j$ a un único índice $k$, es decir: $$\\phi: (i,j) \\mapsto k.$$ También encuentren $\\phi^{-1}$. Note que $\\phi$ deberá depender de las dimensiones del arreglo, por lo menos de una de ellas."
   ]
  },
  {
   "cell_type": "code",
   "execution_count": 1,
   "metadata": {},
   "outputs": [
    {
     "data": {
      "text/plain": [
       "indexer (generic function with 1 method)"
      ]
     },
     "execution_count": 1,
     "metadata": {},
     "output_type": "execute_result"
    }
   ],
   "source": [
    "\n",
    "function indexer(i,j,numberOfColumns)\n",
    "    #=Es una cuestión de conteo muy sencilla=#\n",
    "    return (i-1)*numberOfColumns + j\n",
    "end "
   ]
  },
  {
   "cell_type": "code",
   "execution_count": 6,
   "metadata": {},
   "outputs": [
    {
     "name": "stdout",
     "output_type": "stream",
     "text": [
      "i = 1 j = 1 goes to the indez 1\n",
      "i = 1 j = 2 goes to the indez 2\n",
      "i = 1 j = 3 goes to the indez 3\n",
      "i = 2 j = 1 goes to the indez 4\n",
      "i = 2 j = 2 goes to the indez 5\n",
      "i = 2 j = 3 goes to the indez 6\n"
     ]
    }
   ],
   "source": [
    "#=Vamos a probar la funcion=#\n",
    "A = [1 2 3; 4 5 6]\n",
    "n = size(A,1)\n",
    "m = size(A,2)\n",
    "\n",
    "for i in 1:n\n",
    "    for j in 1:m\n",
    "    println(\"i = \",i ,\" j = \", j, \" goes to the indez \",indexer(i,j,m))    \n",
    "    end\n",
    "end\n"
   ]
  },
  {
   "cell_type": "code",
   "execution_count": 33,
   "metadata": {},
   "outputs": [
    {
     "data": {
      "text/plain": [
       "inverseIndexer (generic function with 2 methods)"
      ]
     },
     "execution_count": 33,
     "metadata": {},
     "output_type": "execute_result"
    }
   ],
   "source": [
    "#=La funcion inversa es sencilla tambien, se usa modulo aqui=#\n",
    "\n",
    "function inverseIndexer(numberOfColumns,index)\n",
    "    #=Utilizar el módulo es conveniente. ya que podemos en principio calcular el coeficiente j como index%numberOfcolumns, sin embargo hay que tener precaucion porque aquellos indices cuyo j este en la ultima columna recibiran un residuo de cero. Por ello habra que tratar este caso aparte=#\n",
    "    \n",
    "    if(index%numberOfColumns!=0)\n",
    "        \n",
    "        j = index%numberOfColumns\n",
    "    else\n",
    "        j = numberOfColumns\n",
    "    end\n",
    "    \n",
    "    #=Ahora calculamos el coeficiente i en forma inversa a como lo hicimos en la funcion indexer (despeje i)=#\n",
    "    \n",
    "    i = (index-j+numberOfColumns)/numberOfColumns\n",
    "    return[i,j]\n",
    "end\n"
   ]
  },
  {
   "cell_type": "code",
   "execution_count": 34,
   "metadata": {},
   "outputs": [
    {
     "name": "stdout",
     "output_type": "stream",
     "text": [
      "index 1 goes to i = 1.0 j = 1.0\n",
      "index 2 goes to i = 1.0 j = 2.0\n",
      "index 3 goes to i = 1.0 j = 3.0\n",
      "index 4 goes to i = 2.0 j = 1.0\n",
      "index 5 goes to i = 2.0 j = 2.0\n",
      "index 6 goes to i = 2.0 j = 3.0\n"
     ]
    }
   ],
   "source": [
    "#=Hagamos la prueba con la matriz que teniamos antes. =#\n",
    "\n",
    "indexes = [1 2 3 4 5 6]\n",
    "\n",
    "for index in indexes\n",
    "    \n",
    "    inverse = inverseIndexer(m,index)\n",
    "    println(\"index \",index, \" goes to i = \",inverse[1], \" j = \", inverse[2]) \n",
    "end"
   ]
  },
  {
   "cell_type": "code",
   "execution_count": null,
   "metadata": {},
   "outputs": [],
   "source": []
  }
 ],
 "metadata": {
  "kernelspec": {
   "display_name": "Julia 0.6.0",
   "language": "julia",
   "name": "julia-0.6"
  },
  "language_info": {
   "file_extension": ".jl",
   "mimetype": "application/julia",
   "name": "julia",
   "version": "0.6.0"
  }
 },
 "nbformat": 4,
 "nbformat_minor": 2
}
