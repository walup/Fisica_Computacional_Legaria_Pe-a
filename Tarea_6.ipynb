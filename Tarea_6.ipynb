{
 "cells": [
  {
   "cell_type": "markdown",
   "metadata": {},
   "source": [
    "**1.-Implementar el método de Riemann**"
   ]
  },
  {
   "cell_type": "code",
   "execution_count": 1,
   "metadata": {
    "collapsed": false
   },
   "outputs": [
    {
     "data": {
      "text/plain": [
       "metodoRiemann (generic function with 1 method)"
      ]
     },
     "execution_count": 1,
     "metadata": {},
     "output_type": "execute_result"
    }
   ],
   "source": [
    "function metodoRiemann(f::Function,a,b)\n",
    "    \n",
    "    #=Esta es la implementacion del metodo de Riemann. subdividiremos el intervalo [a,b] en 200 intervalos, para obtener un valor mas exacto de la integral. Comenzamos guardando en una variable el tamaño delta de cada subintervalo. definimos las variables necesarias y comenzamos a iterar. cada ciclo del for corresponde a trabajar con uno de los 200 subintervalos. para cada uno de ellos se deben guardar los extremos del intervalo y el valor a la mitad en variables, y luego sumar a la integral la funcion evaluada en el punto medio por la longitud del intervalo delta. Una vez que se ha completado el for se regresa el valor de la integral=#\n",
    "    \n",
    "    \n",
    "    n = 200\n",
    "    delta = (b-a)/n\n",
    "    xNext\n",
    "    xBefore\n",
    "    xMiddle\n",
    "    \n",
    "    integral = 0\n",
    "    \n",
    "    for i in 1:n\n",
    "        xNext = a +(i)*delta\n",
    "        xBefore = a +(i-1)*delta\n",
    "        xMiddle = (xBefore +xNext)/2\n",
    "        \n",
    "        integral += f(xMiddle)*delta\n",
    "    end \n",
    "    \n",
    "    return integral \n",
    "end "
   ]
  },
  {
   "cell_type": "code",
   "execution_count": 6,
   "metadata": {
    "collapsed": false
   },
   "outputs": [
    {
     "data": {
      "text/plain": [
       "6.740484906342381e-16"
      ]
     },
     "execution_count": 6,
     "metadata": {},
     "output_type": "execute_result"
    }
   ],
   "source": [
    "#=Vamos a hacer algunas pruebas, como vemos el valor de la integral de seno, de cero a dos pi, da aproximadamente cero, como se esperaria =#\n",
    "metodoRiemann(x->sin(x),0,2*pi)"
   ]
  },
  {
   "cell_type": "code",
   "execution_count": 7,
   "metadata": {
    "collapsed": false
   },
   "outputs": [
    {
     "data": {
      "text/plain": [
       "2.666649999999999"
      ]
     },
     "execution_count": 7,
     "metadata": {},
     "output_type": "execute_result"
    }
   ],
   "source": [
    "\n",
    "#=La inegral de x^2 de cero a dos debe dar ocho tercios, que es 2+2/3 =2 +2*0.333333 = 2.666666=#\n",
    "metodoRiemann(x->x^2,0,2)"
   ]
  },
  {
   "cell_type": "markdown",
   "metadata": {},
   "source": [
    "**2.-Implementar el método del trapecio**"
   ]
  },
  {
   "cell_type": "code",
   "execution_count": 8,
   "metadata": {
    "collapsed": false
   },
   "outputs": [
    {
     "data": {
      "text/plain": [
       "metodoTrapecio (generic function with 1 method)"
      ]
     },
     "execution_count": 8,
     "metadata": {},
     "output_type": "execute_result"
    }
   ],
   "source": [
    "#=Esta es la implementacion del metodo del trapecio, la idea es muy similar al caso del metodo de Riemann, excepto que ahora no necesitamos el punto medio de los intervalos en que estamos subdividiendo. en cada ciclo se agregara el promedio de la funcion evaluada en los extremos del intervalo mu=#\n",
    "\n",
    "\n",
    "function metodoTrapecio(f::Function,a,b)\n",
    "    n = 200\n",
    "    delta = (b-a)/n\n",
    "    xNext\n",
    "    xBefore\n",
    "    \n",
    "    integral = 0\n",
    "    \n",
    "    for i in 1:n\n",
    "        \n",
    "        xNext = a+i*delta\n",
    "        xBefore = a+(i-1)*delta\n",
    "        \n",
    "        integral += ((f(xNext) +f(xBefore))/2)*delta\n",
    "    end \n",
    "    \n",
    "    return integral \n",
    "end "
   ]
  },
  {
   "cell_type": "code",
   "execution_count": 9,
   "metadata": {
    "collapsed": false
   },
   "outputs": [
    {
     "data": {
      "text/plain": [
       "-1.0104764247564901e-16"
      ]
     },
     "execution_count": 9,
     "metadata": {},
     "output_type": "execute_result"
    }
   ],
   "source": [
    "metodoTrapecio(x->sin(x),0,2*pi)"
   ]
  },
  {
   "cell_type": "code",
   "execution_count": 10,
   "metadata": {
    "collapsed": false
   },
   "outputs": [
    {
     "data": {
      "text/plain": [
       "2.6667"
      ]
     },
     "execution_count": 10,
     "metadata": {},
     "output_type": "execute_result"
    }
   ],
   "source": [
    "metodoTrapecio(x->x^2,0,2)"
   ]
  },
  {
   "cell_type": "code",
   "execution_count": null,
   "metadata": {
    "collapsed": true
   },
   "outputs": [],
   "source": []
  }
 ],
 "metadata": {
  "kernelspec": {
   "display_name": "Julia 0.4.7",
   "language": "julia",
   "name": "julia-0.4"
  },
  "language_info": {
   "file_extension": ".jl",
   "mimetype": "application/julia",
   "name": "julia",
   "version": "0.4.7"
  }
 },
 "nbformat": 4,
 "nbformat_minor": 2
}
