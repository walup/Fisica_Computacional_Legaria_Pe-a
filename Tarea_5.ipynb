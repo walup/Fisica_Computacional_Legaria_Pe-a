{
 "cells": [
  {
   "cell_type": "markdown",
   "metadata": {},
   "source": [
    "# Explicación de métodos de integración\n",
    "\n",
    "## Método de Riemann \n",
    "\n",
    "El método de Riemann consiste en aproximar la integral como una suma de rectangulos. Suponga que se tiene una función $f: \\mathbb{R}\\to \\mathbb{R}$, la cual es integrable en el intervalo $[a,b]$ (Por fines prácticos no nos preocuparemos por la definición formal de integrabilidad, basta con saber que una condición suficiente para que la función sea integrable es que sea continua). En este intervalo tomaremos una partición de tamaño n+1, i.e. un conjunto de n+1 puntos que dividen el intervalo en n partes, no necesariamente iguales, los puntos inicial y final de esta partición deben ser a y b respectivamente: \n",
    "\n",
    "$$\\mathbb{P} =\\{x_{0},x_{1},x_{2},.....,x_{n}\\}$$\n",
    "\n",
    "$$a= x_{0} < x_{1} < x_{2} < ....< x_{n}=b$$\n",
    "\n",
    "Ahora, consideremos el caso del primer intervalo, delimitado por los puntos $x_{0}$ y $x_{1}$. Podemos formar un rectangulo si tomamos la base como $x_{1} -x_{0}$ y como altura la función evaluada en cualquier punto del intervalo, digamos $w_{1}$ entonces el 'area' de este rectangulo seria $f(w_{1})(x_{1} -x_{0})$ (estrictamente hablando esto no necesariamente es una area, porque las areas son mayores que cero, mientras que el signo de esto depende del signo de $f(w_{1})$). Hacemos esto para cada uno de los intervalos y encontramos la siguiente aproximación para la integral:\n",
    "\n",
    "$$\\int_{a}^b f(x)dx \\approx \\sum_{i = 1}^n f(w_{i})(x_{i} -x_{i-1})$$\n",
    "\n",
    "Hay ciertos casos especiales de esta suma que pueden facilitar el análisis numérico. Uno de ellos sería usar una partición uniforme (i.e. que el tamaño de los intervalos fuera el mismo: $\\Delta = \\frac{b-a}{n}$) otro sería evaluar siempre en los puntos extremos, ya sea de la izquierda o de la derecha. Al combinar estos casos quedarian respectivamente las siguientes sumas:\n",
    "\n",
    "$$\\frac{b-a}{n}\\sum_{i = 1}^n f(x_{i-1})$$\n",
    "\n",
    "$$\\frac{b-a}{n} \\sum_{i = 1}^nf(x_{i})$$\n",
    "\n",
    "Tambien podrian tomarse los puntos medios \n",
    "$$\\frac{b-a}{n} \\sum_{i = 1}^nf\\left(\\frac{x_{i}+x_{i-1}}{2}\\right)$$\n",
    "\n",
    "## Regla del trapecio \n",
    "\n",
    "La regla del trapecio se utiliza para aproximar la integral como una suma de trapecios. Un trapecio basicamente es un triangulo rectangulo encima de un rectangulo \n",
    "<img src=\"http://1.bp.blogspot.com/-ZxxVfovPaRo/UbnLYY7Fg-I/AAAAAAAABDI/ESLitzY9LsU/s1600/Numerical+Integration+In+Excel+Using+The+Trapezoidal+Rule.jpg\" alt=\"Drawing\" style=\"width: 300px;\"/>\n",
    "\n",
    "si quisieramos obtener el area del trapecio que se muestra en la imagen hariamos la suma del rectangulo y el triangulo:\n",
    "\n",
    "$$Area = (b-a)f(a) +  \\frac{(b-a)(f(b) -f(a))}{2} = (b-a)\\frac{2f(a) +f(b) -f(a)}{2} = (b-a) \\frac{f(a)+f(b)}{2}$$\n",
    "\n",
    "En general aproximar la integral con un solo trapecio no da el mejor resultado, por lo que al igual que en el método de Riemann, se hace una partición, se aproxima la integral en cada uno de los intervalos con un trapecio, y luego se hace la suma.\n",
    "\n",
    "$$\\int_{a}^b f(x)\\approx \\sum_{i=1}^n \\frac{f(x_{i}) +f(x_{i-1})}{2} (x_{i} -x_{i-1})$$\n",
    "\n",
    "Con fines de análisis numérico conviene tomar una partición uniforme, ya que en este caso se obtiene \n",
    "\n",
    "$$\\int_{a}^b f(x) \\approx \\frac{b-a}{n} (f(x_{0}) +2f(x_{1}) +......+2f(x_{n-1}) +f(x_{n}))$$\n",
    "\n",
    "El coeficiente 2 en $x_{1}$ $x_{2}$ etc.. sale porque estos aparecen en dos terminos de la sumatoria, mientras que $x_{0}$ y $x_{n}$ solo aparecen en uno. \n",
    "\n",
    "## Método de Simpson\n",
    "\n",
    "El método de Simpson es parecido a la regla del trapecio, sin embargo en este, en vez de unir los puntos $(a,f(a))$ y $(b,f(b))$\n",
    "con una linea, se usa un polinomio de segundo grado. Se pide además que dicha curva pase por el punto medio $\\left(\\frac{a+b}{2},f\\left(\\frac{a+b}{2}\\right)\\right)$ Así, la regla termina siendo una especie de combinación entre el método del trapecio $$T =(b-a) \\frac{f(a)+f(b)}{2}$$ y la aproximación del punto medio $$M = (b-a)f\\left(\\frac{a+b}{2}\\right)$$\n",
    "\n",
    "Estos métodos se 'mezclan' en las proporciones que aseguran el menor error posible, no demostraremos esto, pero la combinación resulta ser \n",
    "\n",
    "$$\\int_{a}^b f(x) \\approx \\frac{2M +T}{3} = \\frac{b-a}{6} \\left(f(a)+f(b)+4f\\left(\\frac{a+b}{2}\\right)\\right)$$\n"
   ]
  },
  {
   "cell_type": "code",
   "execution_count": null,
   "metadata": {
    "collapsed": true
   },
   "outputs": [],
   "source": []
  }
 ],
 "metadata": {
  "kernelspec": {
   "display_name": "Julia 0.4.7",
   "language": "julia",
   "name": "julia-0.4"
  },
  "language_info": {
   "file_extension": ".jl",
   "mimetype": "application/julia",
   "name": "julia",
   "version": "0.4.7"
  }
 },
 "nbformat": 4,
 "nbformat_minor": 2
}
